{
 "cells": [
  {
   "cell_type": "code",
   "execution_count": 7,
   "metadata": {},
   "outputs": [],
   "source": [
    "import pandas as pd"
   ]
  },
  {
   "cell_type": "code",
   "execution_count": 8,
   "metadata": {},
   "outputs": [],
   "source": [
    "import quandl"
   ]
  },
  {
   "cell_type": "code",
   "execution_count": 9,
   "metadata": {},
   "outputs": [
    {
     "name": "stdout",
     "output_type": "stream",
     "text": [
      "_marGsCLZyWKZ8ojyxpF\n"
     ]
    }
   ],
   "source": [
    "api_key = open('ApiKey.txt').read()\n",
    "print(api_key)"
   ]
  },
  {
   "cell_type": "code",
   "execution_count": 10,
   "metadata": {},
   "outputs": [
    {
     "name": "stdout",
     "output_type": "stream",
     "text": [
      "                Value\n",
      "Date                 \n",
      "1975-01-31  34.371830\n",
      "1975-02-28  34.880945\n",
      "1975-03-31  35.402217\n",
      "1975-04-30  35.944703\n",
      "1975-05-31  36.535272\n"
     ]
    }
   ],
   "source": [
    "df_AK = quandl.get('FMAC/HPI_AK', authtoken= api_key)\n",
    "print(df_AK.head())"
   ]
  },
  {
   "cell_type": "code",
   "execution_count": 11,
   "metadata": {},
   "outputs": [],
   "source": [
    "df_list = pd.read_html('https://simple.wikipedia.org/wiki/List_of_U.S._states')"
   ]
  },
  {
   "cell_type": "code",
   "execution_count": 12,
   "metadata": {},
   "outputs": [
    {
     "name": "stdout",
     "output_type": "stream",
     "text": [
      "[         0              1               2               3                  4\n",
      "0   Sl no.  Abbreviations      State Name         Capital     Became a State\n",
      "1        1             AL         Alabama      Montgomery  December 14, 1819\n",
      "2        2             AK          Alaska          Juneau    January 3, 1959\n",
      "3        3             AZ         Arizona         Phoenix  February 14, 1912\n",
      "4        4             AR        Arkansas     Little Rock      June 15, 1836\n",
      "5        5             CA      California      Sacramento  September 9, 1850\n",
      "6        6             CO        Colorado          Denver     August 1, 1876\n",
      "7        7             CT     Connecticut        Hartford    January 9, 1788\n",
      "8        8             DE        Delaware           Dover   December 7, 1787\n",
      "9        9             FL         Florida     Tallahassee      March 3, 1845\n",
      "10      10             GA         Georgia         Atlanta    January 2, 1788\n",
      "11      11             HI          Hawaii        Honolulu    August 21, 1959\n",
      "12      12             ID           Idaho           Boise       July 3, 1890\n",
      "13      13             IL        Illinois     Springfield   December 3, 1818\n",
      "14      14             IN         Indiana    Indianapolis  December 11, 1816\n",
      "15      15             IA            Iowa      Des Moines  December 28, 1846\n",
      "16      16             KS          Kansas          Topeka   January 29, 1861\n",
      "17      17             KY        Kentucky       Frankfort       June 1, 1792\n",
      "18      18             LA       Louisiana     Baton Rouge     April 30, 1812\n",
      "19      19             ME           Maine         Augusta     March 15, 1820\n",
      "20      20             MD        Maryland       Annapolis     April 28, 1788\n",
      "21      21             MA   Massachusetts          Boston   February 6, 1788\n",
      "22      22             MI        Michigan         Lansing   January 26, 1837\n",
      "23      23             MN       Minnesota      Saint Paul       May 11, 1858\n",
      "24      24             MS     Mississippi         Jackson  December 10, 1817\n",
      "25      25             MO        Missouri  Jefferson City    August 10, 1821\n",
      "26      26             MT         Montana          Helena   November 8, 1889\n",
      "27      27             NE        Nebraska         Lincoln      March 1, 1867\n",
      "28      28             NV          Nevada     Carson City   October 31, 1864\n",
      "29      29             NH   New Hampshire         Concord      June 21, 1788\n",
      "30      30             NJ      New Jersey         Trenton  December 18, 1787\n",
      "31      31             NM      New Mexico        Santa Fe    January 6, 1912\n",
      "32      32             NY        New York          Albany      July 26, 1788\n",
      "33      33             NC  North Carolina         Raleigh  November 21, 1789\n",
      "34      34             ND    North Dakota        Bismarck   November 2, 1889\n",
      "35      35             OH            Ohio        Columbus      March 1, 1803\n",
      "36      36             OK        Oklahoma   Oklahoma City  November 16, 1907\n",
      "37      37             OR          Oregon           Salem  February 14, 1859\n",
      "38      38             PA    Pennsylvania      Harrisburg  December 12, 1787\n",
      "39      39             RI    Rhode Island      Providence       May 19, 1790\n",
      "40      40             SC  South Carolina        Columbia       May 23, 1788\n",
      "41      41             SD    South Dakota          Pierre   November 2, 1889\n",
      "42      42             TN       Tennessee       Nashville       June 1, 1796\n",
      "43      43             TX           Texas          Austin  December 29, 1845\n",
      "44      44             UT            Utah  Salt Lake City    January 4, 1896\n",
      "45      45             VT         Vermont      Montpelier      March 4, 1791\n",
      "46      46             VA        Virginia        Richmond      June 25, 1788\n",
      "47      47             WA      Washington         Olympia  November 11, 1889\n",
      "48      48             WV   West Virginia      Charleston      June 20, 1863\n",
      "49      49             WI       Wisconsin         Madison       May 29, 1848\n",
      "50      50             WY         Wyoming        Cheyenne      July 10, 1890,                                              0  \\\n",
      "0  vtePolitical divisions of the United States   \n",
      "1                                       States   \n",
      "2                             Federal district   \n",
      "3                                Insular areas   \n",
      "4                             Outlying islands   \n",
      "\n",
      "                                                   1  \n",
      "0                                                NaN  \n",
      "1  Alabama Alaska Arizona Arkansas California Col...  \n",
      "2                                   Washington, D.C.  \n",
      "3  American Samoa Guam Northern Mariana Islands P...  \n",
      "4  Baker Island Howland Island Jarvis Island John...  ]\n"
     ]
    }
   ],
   "source": [
    "print(df_list)"
   ]
  },
  {
   "cell_type": "code",
   "execution_count": 13,
   "metadata": {},
   "outputs": [
    {
     "name": "stdout",
     "output_type": "stream",
     "text": [
      "         0              1               2               3                  4\n",
      "0   Sl no.  Abbreviations      State Name         Capital     Became a State\n",
      "1        1             AL         Alabama      Montgomery  December 14, 1819\n",
      "2        2             AK          Alaska          Juneau    January 3, 1959\n",
      "3        3             AZ         Arizona         Phoenix  February 14, 1912\n",
      "4        4             AR        Arkansas     Little Rock      June 15, 1836\n",
      "5        5             CA      California      Sacramento  September 9, 1850\n",
      "6        6             CO        Colorado          Denver     August 1, 1876\n",
      "7        7             CT     Connecticut        Hartford    January 9, 1788\n",
      "8        8             DE        Delaware           Dover   December 7, 1787\n",
      "9        9             FL         Florida     Tallahassee      March 3, 1845\n",
      "10      10             GA         Georgia         Atlanta    January 2, 1788\n",
      "11      11             HI          Hawaii        Honolulu    August 21, 1959\n",
      "12      12             ID           Idaho           Boise       July 3, 1890\n",
      "13      13             IL        Illinois     Springfield   December 3, 1818\n",
      "14      14             IN         Indiana    Indianapolis  December 11, 1816\n",
      "15      15             IA            Iowa      Des Moines  December 28, 1846\n",
      "16      16             KS          Kansas          Topeka   January 29, 1861\n",
      "17      17             KY        Kentucky       Frankfort       June 1, 1792\n",
      "18      18             LA       Louisiana     Baton Rouge     April 30, 1812\n",
      "19      19             ME           Maine         Augusta     March 15, 1820\n",
      "20      20             MD        Maryland       Annapolis     April 28, 1788\n",
      "21      21             MA   Massachusetts          Boston   February 6, 1788\n",
      "22      22             MI        Michigan         Lansing   January 26, 1837\n",
      "23      23             MN       Minnesota      Saint Paul       May 11, 1858\n",
      "24      24             MS     Mississippi         Jackson  December 10, 1817\n",
      "25      25             MO        Missouri  Jefferson City    August 10, 1821\n",
      "26      26             MT         Montana          Helena   November 8, 1889\n",
      "27      27             NE        Nebraska         Lincoln      March 1, 1867\n",
      "28      28             NV          Nevada     Carson City   October 31, 1864\n",
      "29      29             NH   New Hampshire         Concord      June 21, 1788\n",
      "30      30             NJ      New Jersey         Trenton  December 18, 1787\n",
      "31      31             NM      New Mexico        Santa Fe    January 6, 1912\n",
      "32      32             NY        New York          Albany      July 26, 1788\n",
      "33      33             NC  North Carolina         Raleigh  November 21, 1789\n",
      "34      34             ND    North Dakota        Bismarck   November 2, 1889\n",
      "35      35             OH            Ohio        Columbus      March 1, 1803\n",
      "36      36             OK        Oklahoma   Oklahoma City  November 16, 1907\n",
      "37      37             OR          Oregon           Salem  February 14, 1859\n",
      "38      38             PA    Pennsylvania      Harrisburg  December 12, 1787\n",
      "39      39             RI    Rhode Island      Providence       May 19, 1790\n",
      "40      40             SC  South Carolina        Columbia       May 23, 1788\n",
      "41      41             SD    South Dakota          Pierre   November 2, 1889\n",
      "42      42             TN       Tennessee       Nashville       June 1, 1796\n",
      "43      43             TX           Texas          Austin  December 29, 1845\n",
      "44      44             UT            Utah  Salt Lake City    January 4, 1896\n",
      "45      45             VT         Vermont      Montpelier      March 4, 1791\n",
      "46      46             VA        Virginia        Richmond      June 25, 1788\n",
      "47      47             WA      Washington         Olympia  November 11, 1889\n",
      "48      48             WV   West Virginia      Charleston      June 20, 1863\n",
      "49      49             WI       Wisconsin         Madison       May 29, 1848\n",
      "50      50             WY         Wyoming        Cheyenne      July 10, 1890\n"
     ]
    }
   ],
   "source": [
    "print(df_list[0])"
   ]
  },
  {
   "cell_type": "code",
   "execution_count": 14,
   "metadata": {},
   "outputs": [
    {
     "name": "stdout",
     "output_type": "stream",
     "text": [
      "0     Abbreviations\n",
      "1                AL\n",
      "2                AK\n",
      "3                AZ\n",
      "4                AR\n",
      "5                CA\n",
      "6                CO\n",
      "7                CT\n",
      "8                DE\n",
      "9                FL\n",
      "10               GA\n",
      "11               HI\n",
      "12               ID\n",
      "13               IL\n",
      "14               IN\n",
      "15               IA\n",
      "16               KS\n",
      "17               KY\n",
      "18               LA\n",
      "19               ME\n",
      "20               MD\n",
      "21               MA\n",
      "22               MI\n",
      "23               MN\n",
      "24               MS\n",
      "25               MO\n",
      "26               MT\n",
      "27               NE\n",
      "28               NV\n",
      "29               NH\n",
      "30               NJ\n",
      "31               NM\n",
      "32               NY\n",
      "33               NC\n",
      "34               ND\n",
      "35               OH\n",
      "36               OK\n",
      "37               OR\n",
      "38               PA\n",
      "39               RI\n",
      "40               SC\n",
      "41               SD\n",
      "42               TN\n",
      "43               TX\n",
      "44               UT\n",
      "45               VT\n",
      "46               VA\n",
      "47               WA\n",
      "48               WV\n",
      "49               WI\n",
      "50               WY\n",
      "Name: 1, dtype: object\n"
     ]
    }
   ],
   "source": [
    "print(df_list[0][1])\n",
    "import pickle"
   ]
  },
  {
   "cell_type": "code",
   "execution_count": 15,
   "metadata": {},
   "outputs": [],
   "source": [
    "df11 = pd.DataFrame({'Year':[2001,2002,2003,2004],'UnEmployment':[23,12,1,24],'growth':[1,3,5,7]})\n",
    "df12 = pd.DataFrame({'Year':[2001,2004,2005,2006],'underDeveloped':[21,20,8,1],'caliber':[10,23,45,70]})"
   ]
  },
  {
   "cell_type": "code",
   "execution_count": 16,
   "metadata": {},
   "outputs": [],
   "source": [
    "merged = pd.merge(df11,df12, on='Year', how='left')"
   ]
  },
  {
   "cell_type": "code",
   "execution_count": 17,
   "metadata": {},
   "outputs": [
    {
     "name": "stdout",
     "output_type": "stream",
     "text": [
      "   Year  UnEmployment  growth  underDeveloped  caliber\n",
      "0  2001            23       1            21.0     10.0\n",
      "1  2002            12       3             NaN      NaN\n",
      "2  2003             1       5             NaN      NaN\n",
      "3  2004            24       7            20.0     23.0\n"
     ]
    }
   ],
   "source": [
    "print(merged)"
   ]
  },
  {
   "cell_type": "code",
   "execution_count": 18,
   "metadata": {},
   "outputs": [
    {
     "name": "stderr",
     "output_type": "stream",
     "text": [
      "/Users/pagidoju/anaconda3/lib/python3.6/site-packages/ipykernel_launcher.py:1: FutureWarning: Sorting because non-concatenation axis is not aligned. A future version\n",
      "of pandas will change to not sort by default.\n",
      "\n",
      "To accept the future behavior, pass 'sort=True'.\n",
      "\n",
      "To retain the current behavior and silence the warning, pass sort=False\n",
      "\n",
      "  \"\"\"Entry point for launching an IPython kernel.\n"
     ]
    }
   ],
   "source": [
    "concat = pd.concat([df11,df12])"
   ]
  },
  {
   "cell_type": "code",
   "execution_count": 19,
   "metadata": {},
   "outputs": [
    {
     "name": "stdout",
     "output_type": "stream",
     "text": [
      "   UnEmployment  Year  caliber  growth  underDeveloped\n",
      "0          23.0  2001      NaN     1.0             NaN\n",
      "1          12.0  2002      NaN     3.0             NaN\n",
      "2           1.0  2003      NaN     5.0             NaN\n",
      "3          24.0  2004      NaN     7.0             NaN\n",
      "0           NaN  2001     10.0     NaN            21.0\n",
      "1           NaN  2004     23.0     NaN            20.0\n",
      "2           NaN  2005     45.0     NaN             8.0\n",
      "3           NaN  2006     70.0     NaN             1.0\n"
     ]
    }
   ],
   "source": [
    "print(concat)"
   ]
  },
  {
   "cell_type": "code",
   "execution_count": 20,
   "metadata": {},
   "outputs": [
    {
     "data": {
      "text/html": [
       "<div>\n",
       "<style scoped>\n",
       "    .dataframe tbody tr th:only-of-type {\n",
       "        vertical-align: middle;\n",
       "    }\n",
       "\n",
       "    .dataframe tbody tr th {\n",
       "        vertical-align: top;\n",
       "    }\n",
       "\n",
       "    .dataframe thead th {\n",
       "        text-align: right;\n",
       "    }\n",
       "</style>\n",
       "<table border=\"1\" class=\"dataframe\">\n",
       "  <thead>\n",
       "    <tr style=\"text-align: right;\">\n",
       "      <th></th>\n",
       "      <th>UnEmployment</th>\n",
       "      <th>Year</th>\n",
       "      <th>caliber</th>\n",
       "      <th>growth</th>\n",
       "      <th>underDeveloped</th>\n",
       "    </tr>\n",
       "  </thead>\n",
       "  <tbody>\n",
       "    <tr>\n",
       "      <th>0</th>\n",
       "      <td>23.0</td>\n",
       "      <td>2001</td>\n",
       "      <td>NaN</td>\n",
       "      <td>1.0</td>\n",
       "      <td>NaN</td>\n",
       "    </tr>\n",
       "    <tr>\n",
       "      <th>1</th>\n",
       "      <td>12.0</td>\n",
       "      <td>2002</td>\n",
       "      <td>NaN</td>\n",
       "      <td>3.0</td>\n",
       "      <td>NaN</td>\n",
       "    </tr>\n",
       "    <tr>\n",
       "      <th>2</th>\n",
       "      <td>1.0</td>\n",
       "      <td>2003</td>\n",
       "      <td>NaN</td>\n",
       "      <td>5.0</td>\n",
       "      <td>NaN</td>\n",
       "    </tr>\n",
       "    <tr>\n",
       "      <th>3</th>\n",
       "      <td>24.0</td>\n",
       "      <td>2004</td>\n",
       "      <td>NaN</td>\n",
       "      <td>7.0</td>\n",
       "      <td>NaN</td>\n",
       "    </tr>\n",
       "    <tr>\n",
       "      <th>0</th>\n",
       "      <td>NaN</td>\n",
       "      <td>2001</td>\n",
       "      <td>10.0</td>\n",
       "      <td>NaN</td>\n",
       "      <td>21.0</td>\n",
       "    </tr>\n",
       "  </tbody>\n",
       "</table>\n",
       "</div>"
      ],
      "text/plain": [
       "   UnEmployment  Year  caliber  growth  underDeveloped\n",
       "0          23.0  2001      NaN     1.0             NaN\n",
       "1          12.0  2002      NaN     3.0             NaN\n",
       "2           1.0  2003      NaN     5.0             NaN\n",
       "3          24.0  2004      NaN     7.0             NaN\n",
       "0           NaN  2001     10.0     NaN            21.0"
      ]
     },
     "execution_count": 20,
     "metadata": {},
     "output_type": "execute_result"
    }
   ],
   "source": [
    "concat.head()"
   ]
  },
  {
   "cell_type": "code",
   "execution_count": 21,
   "metadata": {},
   "outputs": [
    {
     "name": "stderr",
     "output_type": "stream",
     "text": [
      "/Users/pagidoju/anaconda3/lib/python3.6/site-packages/pandas/core/frame.py:6201: FutureWarning: Sorting because non-concatenation axis is not aligned. A future version\n",
      "of pandas will change to not sort by default.\n",
      "\n",
      "To accept the future behavior, pass 'sort=True'.\n",
      "\n",
      "To retain the current behavior and silence the warning, pass sort=False\n",
      "\n",
      "  sort=sort)\n"
     ]
    },
    {
     "data": {
      "text/html": [
       "<div>\n",
       "<style scoped>\n",
       "    .dataframe tbody tr th:only-of-type {\n",
       "        vertical-align: middle;\n",
       "    }\n",
       "\n",
       "    .dataframe tbody tr th {\n",
       "        vertical-align: top;\n",
       "    }\n",
       "\n",
       "    .dataframe thead th {\n",
       "        text-align: right;\n",
       "    }\n",
       "</style>\n",
       "<table border=\"1\" class=\"dataframe\">\n",
       "  <thead>\n",
       "    <tr style=\"text-align: right;\">\n",
       "      <th></th>\n",
       "      <th>UnEmployment</th>\n",
       "      <th>Year</th>\n",
       "      <th>caliber</th>\n",
       "      <th>growth</th>\n",
       "      <th>underDeveloped</th>\n",
       "    </tr>\n",
       "  </thead>\n",
       "  <tbody>\n",
       "    <tr>\n",
       "      <th>0</th>\n",
       "      <td>23.0</td>\n",
       "      <td>2001</td>\n",
       "      <td>NaN</td>\n",
       "      <td>1.0</td>\n",
       "      <td>NaN</td>\n",
       "    </tr>\n",
       "    <tr>\n",
       "      <th>1</th>\n",
       "      <td>12.0</td>\n",
       "      <td>2002</td>\n",
       "      <td>NaN</td>\n",
       "      <td>3.0</td>\n",
       "      <td>NaN</td>\n",
       "    </tr>\n",
       "    <tr>\n",
       "      <th>2</th>\n",
       "      <td>1.0</td>\n",
       "      <td>2003</td>\n",
       "      <td>NaN</td>\n",
       "      <td>5.0</td>\n",
       "      <td>NaN</td>\n",
       "    </tr>\n",
       "    <tr>\n",
       "      <th>3</th>\n",
       "      <td>24.0</td>\n",
       "      <td>2004</td>\n",
       "      <td>NaN</td>\n",
       "      <td>7.0</td>\n",
       "      <td>NaN</td>\n",
       "    </tr>\n",
       "    <tr>\n",
       "      <th>0</th>\n",
       "      <td>NaN</td>\n",
       "      <td>2001</td>\n",
       "      <td>10.0</td>\n",
       "      <td>NaN</td>\n",
       "      <td>21.0</td>\n",
       "    </tr>\n",
       "    <tr>\n",
       "      <th>1</th>\n",
       "      <td>NaN</td>\n",
       "      <td>2004</td>\n",
       "      <td>23.0</td>\n",
       "      <td>NaN</td>\n",
       "      <td>20.0</td>\n",
       "    </tr>\n",
       "    <tr>\n",
       "      <th>2</th>\n",
       "      <td>NaN</td>\n",
       "      <td>2005</td>\n",
       "      <td>45.0</td>\n",
       "      <td>NaN</td>\n",
       "      <td>8.0</td>\n",
       "    </tr>\n",
       "    <tr>\n",
       "      <th>3</th>\n",
       "      <td>NaN</td>\n",
       "      <td>2006</td>\n",
       "      <td>70.0</td>\n",
       "      <td>NaN</td>\n",
       "      <td>1.0</td>\n",
       "    </tr>\n",
       "  </tbody>\n",
       "</table>\n",
       "</div>"
      ],
      "text/plain": [
       "   UnEmployment  Year  caliber  growth  underDeveloped\n",
       "0          23.0  2001      NaN     1.0             NaN\n",
       "1          12.0  2002      NaN     3.0             NaN\n",
       "2           1.0  2003      NaN     5.0             NaN\n",
       "3          24.0  2004      NaN     7.0             NaN\n",
       "0           NaN  2001     10.0     NaN            21.0\n",
       "1           NaN  2004     23.0     NaN            20.0\n",
       "2           NaN  2005     45.0     NaN             8.0\n",
       "3           NaN  2006     70.0     NaN             1.0"
      ]
     },
     "execution_count": 21,
     "metadata": {},
     "output_type": "execute_result"
    }
   ],
   "source": [
    "df11.append(df12)"
   ]
  },
  {
   "cell_type": "code",
   "execution_count": 22,
   "metadata": {},
   "outputs": [],
   "source": [
    "df11.fillna('ffill',inplace=True)"
   ]
  },
  {
   "cell_type": "code",
   "execution_count": 23,
   "metadata": {},
   "outputs": [
    {
     "data": {
      "text/html": [
       "<div>\n",
       "<style scoped>\n",
       "    .dataframe tbody tr th:only-of-type {\n",
       "        vertical-align: middle;\n",
       "    }\n",
       "\n",
       "    .dataframe tbody tr th {\n",
       "        vertical-align: top;\n",
       "    }\n",
       "\n",
       "    .dataframe thead th {\n",
       "        text-align: right;\n",
       "    }\n",
       "</style>\n",
       "<table border=\"1\" class=\"dataframe\">\n",
       "  <thead>\n",
       "    <tr style=\"text-align: right;\">\n",
       "      <th></th>\n",
       "      <th>Year</th>\n",
       "      <th>UnEmployment</th>\n",
       "      <th>growth</th>\n",
       "    </tr>\n",
       "  </thead>\n",
       "  <tbody>\n",
       "    <tr>\n",
       "      <th>0</th>\n",
       "      <td>2001</td>\n",
       "      <td>23</td>\n",
       "      <td>1</td>\n",
       "    </tr>\n",
       "    <tr>\n",
       "      <th>1</th>\n",
       "      <td>2002</td>\n",
       "      <td>12</td>\n",
       "      <td>3</td>\n",
       "    </tr>\n",
       "    <tr>\n",
       "      <th>2</th>\n",
       "      <td>2003</td>\n",
       "      <td>1</td>\n",
       "      <td>5</td>\n",
       "    </tr>\n",
       "    <tr>\n",
       "      <th>3</th>\n",
       "      <td>2004</td>\n",
       "      <td>24</td>\n",
       "      <td>7</td>\n",
       "    </tr>\n",
       "  </tbody>\n",
       "</table>\n",
       "</div>"
      ],
      "text/plain": [
       "   Year  UnEmployment  growth\n",
       "0  2001            23       1\n",
       "1  2002            12       3\n",
       "2  2003             1       5\n",
       "3  2004            24       7"
      ]
     },
     "execution_count": 23,
     "metadata": {},
     "output_type": "execute_result"
    }
   ],
   "source": [
    "df11.tail(10)"
   ]
  },
  {
   "cell_type": "code",
   "execution_count": 24,
   "metadata": {},
   "outputs": [],
   "source": [
    "import pickle"
   ]
  },
  {
   "cell_type": "code",
   "execution_count": 25,
   "metadata": {},
   "outputs": [],
   "source": [
    "def statelist():\n",
    "    df_statesList = pd.read_html('https://simple.wikipedia.org/wiki/List_of_U.S._states')\n",
    "    return df_statesList[0][1][1:]"
   ]
  },
  {
   "cell_type": "code",
   "execution_count": 26,
   "metadata": {},
   "outputs": [
    {
     "data": {
      "text/plain": [
       "1     AL\n",
       "2     AK\n",
       "3     AZ\n",
       "4     AR\n",
       "5     CA\n",
       "6     CO\n",
       "7     CT\n",
       "8     DE\n",
       "9     FL\n",
       "10    GA\n",
       "11    HI\n",
       "12    ID\n",
       "13    IL\n",
       "14    IN\n",
       "15    IA\n",
       "16    KS\n",
       "17    KY\n",
       "18    LA\n",
       "19    ME\n",
       "20    MD\n",
       "21    MA\n",
       "22    MI\n",
       "23    MN\n",
       "24    MS\n",
       "25    MO\n",
       "26    MT\n",
       "27    NE\n",
       "28    NV\n",
       "29    NH\n",
       "30    NJ\n",
       "31    NM\n",
       "32    NY\n",
       "33    NC\n",
       "34    ND\n",
       "35    OH\n",
       "36    OK\n",
       "37    OR\n",
       "38    PA\n",
       "39    RI\n",
       "40    SC\n",
       "41    SD\n",
       "42    TN\n",
       "43    TX\n",
       "44    UT\n",
       "45    VT\n",
       "46    VA\n",
       "47    WA\n",
       "48    WV\n",
       "49    WI\n",
       "50    WY\n",
       "Name: 1, dtype: object"
      ]
     },
     "execution_count": 26,
     "metadata": {},
     "output_type": "execute_result"
    }
   ],
   "source": [
    "statelist()"
   ]
  },
  {
   "cell_type": "code",
   "execution_count": 75,
   "metadata": {},
   "outputs": [],
   "source": [
    "def retrieve_initialStateData():\n",
    "    states = statelist()\n",
    "    main_df1 = pd.DataFrame()\n",
    "    \n",
    "    for abbv1 in states:\n",
    "        query1 = 'FMAC/HPI_'+ abbv1\n",
    "        #print(query1)\n",
    "        dfM = quandl.get(query1, authtoken= api_key)\n",
    "        \n",
    "        if main_df1.empty:\n",
    "            main_df1=dfM\n",
    "            print(main_df1)\n",
    "        else:\n",
    "            main_df1 = main_df1.merge(dfM)\n",
    "            print(main_df1)\n",
    "    print(main_df1.head())\n",
    "    \n",
    "    pickle_out = open('fiddyStates1.pickle','wb')\n",
    "    pickle.dump(main_df1,pickle_out)\n",
    "    pickle_out.close()\n",
    "    "
   ]
  },
  {
   "cell_type": "code",
   "execution_count": 77,
   "metadata": {},
   "outputs": [
    {
     "name": "stdout",
     "output_type": "stream",
     "text": [
      "                 Value\n",
      "Date                  \n",
      "1975-01-31   35.695975\n",
      "1975-02-28   35.896770\n",
      "1975-03-31   36.133518\n",
      "1975-04-30   36.425723\n",
      "1975-05-31   36.695708\n",
      "1975-06-30   36.823713\n",
      "1975-07-31   36.747060\n",
      "1975-08-31   36.511773\n",
      "1975-09-30   36.255136\n",
      "1975-10-31   36.139294\n",
      "1975-11-30   36.247464\n",
      "1975-12-31   36.592162\n",
      "1976-01-31   37.138285\n",
      "1976-02-29   37.756437\n",
      "1976-03-31   38.276319\n",
      "1976-04-30   38.596135\n",
      "1976-05-31   38.740517\n",
      "1976-06-30   38.797231\n",
      "1976-07-31   38.856955\n",
      "1976-08-31   38.918701\n",
      "1976-09-30   38.958368\n",
      "1976-10-31   39.018758\n",
      "1976-11-30   39.159408\n",
      "1976-12-31   39.316048\n",
      "1977-01-31   39.393664\n",
      "1977-02-28   39.416713\n",
      "1977-03-31   39.450967\n",
      "1977-04-30   39.609241\n",
      "1977-05-31   39.921331\n",
      "1977-06-30   40.340456\n",
      "...                ...\n",
      "2015-07-31  127.854262\n",
      "2015-08-31  127.845969\n",
      "2015-09-30  127.319078\n",
      "2015-10-31  126.705007\n",
      "2015-11-30  126.273111\n",
      "2015-12-31  126.028940\n",
      "2016-01-31  126.252948\n",
      "2016-02-29  127.029795\n",
      "2016-03-31  128.128436\n",
      "2016-04-30  129.498282\n",
      "2016-05-31  130.839220\n",
      "2016-06-30  131.902611\n",
      "2016-07-31  132.731896\n",
      "2016-08-31  133.123014\n",
      "2016-09-30  132.944681\n",
      "2016-10-31  132.231221\n",
      "2016-11-30  131.451951\n",
      "2016-12-31  131.060867\n",
      "2017-01-31  131.261240\n",
      "2017-02-28  132.227038\n",
      "2017-03-31  133.824067\n",
      "2017-04-30  135.561296\n",
      "2017-05-31  136.832165\n",
      "2017-06-30  137.306662\n",
      "2017-07-31  137.053164\n",
      "2017-08-31  136.832464\n",
      "2017-09-30  137.182469\n",
      "2017-10-31  137.690921\n",
      "2017-11-30  137.905915\n",
      "2017-12-31  138.465286\n",
      "\n",
      "[516 rows x 1 columns]\n",
      "   Value\n",
      "0  100.0\n",
      "   Value\n",
      "0  100.0\n",
      "   Value\n",
      "0  100.0\n",
      "   Value\n",
      "0  100.0\n",
      "   Value\n",
      "0  100.0\n",
      "   Value\n",
      "0  100.0\n",
      "   Value\n",
      "0  100.0\n",
      "   Value\n",
      "0  100.0\n",
      "   Value\n",
      "0  100.0\n",
      "   Value\n",
      "0  100.0\n",
      "   Value\n",
      "0  100.0\n",
      "   Value\n",
      "0  100.0\n",
      "   Value\n",
      "0  100.0\n",
      "   Value\n",
      "0  100.0\n",
      "   Value\n",
      "0  100.0\n",
      "   Value\n",
      "0  100.0\n",
      "   Value\n",
      "0  100.0\n",
      "   Value\n",
      "0  100.0\n",
      "   Value\n",
      "0  100.0\n",
      "   Value\n",
      "0  100.0\n",
      "   Value\n",
      "0  100.0\n",
      "   Value\n",
      "0  100.0\n",
      "   Value\n",
      "0  100.0\n",
      "   Value\n",
      "0  100.0\n",
      "   Value\n",
      "0  100.0\n",
      "   Value\n",
      "0  100.0\n",
      "   Value\n",
      "0  100.0\n",
      "   Value\n",
      "0  100.0\n",
      "   Value\n",
      "0  100.0\n",
      "   Value\n",
      "0  100.0\n",
      "   Value\n",
      "0  100.0\n",
      "   Value\n",
      "0  100.0\n",
      "   Value\n",
      "0  100.0\n",
      "   Value\n",
      "0  100.0\n",
      "   Value\n",
      "0  100.0\n",
      "   Value\n",
      "0  100.0\n",
      "   Value\n",
      "0  100.0\n",
      "   Value\n",
      "0  100.0\n",
      "   Value\n",
      "0  100.0\n",
      "   Value\n",
      "0  100.0\n",
      "   Value\n",
      "0  100.0\n",
      "   Value\n",
      "0  100.0\n",
      "   Value\n",
      "0  100.0\n",
      "   Value\n",
      "0  100.0\n",
      "   Value\n",
      "0  100.0\n",
      "   Value\n",
      "0  100.0\n",
      "   Value\n",
      "0  100.0\n",
      "   Value\n",
      "0  100.0\n",
      "   Value\n",
      "0  100.0\n",
      "   Value\n",
      "0  100.0\n"
     ]
    }
   ],
   "source": [
    "retrieve_initialStateData()"
   ]
  },
  {
   "cell_type": "code",
   "execution_count": 49,
   "metadata": {},
   "outputs": [
    {
     "name": "stdout",
     "output_type": "stream",
     "text": [
      "   Value\n",
      "0  100.0\n"
     ]
    }
   ],
   "source": [
    "pickle_in = open('fiddyStates1.pickle','rb')\n",
    "newData = pickle.load(pickle_in)\n",
    "print(newData.head())"
   ]
  },
  {
   "cell_type": "code",
   "execution_count": 51,
   "metadata": {},
   "outputs": [],
   "source": [
    "newData.to_pickle('newPickle1.pickle')"
   ]
  },
  {
   "cell_type": "code",
   "execution_count": 53,
   "metadata": {},
   "outputs": [
    {
     "name": "stdout",
     "output_type": "stream",
     "text": [
      "   Value\n",
      "0  100.0\n"
     ]
    }
   ],
   "source": [
    "newData2 = pd.read_pickle('newPickle1.pickle')\n",
    "print(newData2.head())"
   ]
  },
  {
   "cell_type": "code",
   "execution_count": 54,
   "metadata": {},
   "outputs": [],
   "source": [
    "import matplotlib.pyplot as plt\n",
    "from matplotlib import style"
   ]
  },
  {
   "cell_type": "code",
   "execution_count": 55,
   "metadata": {},
   "outputs": [],
   "source": [
    "style.use('fivethirtyeight')"
   ]
  },
  {
   "cell_type": "code",
   "execution_count": 67,
   "metadata": {},
   "outputs": [],
   "source": [
    "def retrieve_initialStateData1():\n",
    "    states = statelist()\n",
    "    main_df2 = pd.DataFrame()\n",
    "    \n",
    "    for abbv2 in states:\n",
    "        query2 = 'FMAC/HPI_'+ abbv2\n",
    "        #print(query2)\n",
    "        dfM1 = quandl.get(query2, authtoken= api_key)\n",
    "        \n",
    "        if main_df2.empty:\n",
    "            main_df2=dfM1\n",
    "            print(main_df2)\n",
    "        else:\n",
    "            main_df2 = main_df2.merge(dfM1)\n",
    "            #print(main_df2)\n",
    "    print(main_df2.head())\n",
    "    return main_df2"
   ]
  },
  {
   "cell_type": "code",
   "execution_count": 68,
   "metadata": {},
   "outputs": [
    {
     "name": "stdout",
     "output_type": "stream",
     "text": [
      "                 Value\n",
      "Date                  \n",
      "1975-01-31   35.695975\n",
      "1975-02-28   35.896770\n",
      "1975-03-31   36.133518\n",
      "1975-04-30   36.425723\n",
      "1975-05-31   36.695708\n",
      "1975-06-30   36.823713\n",
      "1975-07-31   36.747060\n",
      "1975-08-31   36.511773\n",
      "1975-09-30   36.255136\n",
      "1975-10-31   36.139294\n",
      "1975-11-30   36.247464\n",
      "1975-12-31   36.592162\n",
      "1976-01-31   37.138285\n",
      "1976-02-29   37.756437\n",
      "1976-03-31   38.276319\n",
      "1976-04-30   38.596135\n",
      "1976-05-31   38.740517\n",
      "1976-06-30   38.797231\n",
      "1976-07-31   38.856955\n",
      "1976-08-31   38.918701\n",
      "1976-09-30   38.958368\n",
      "1976-10-31   39.018758\n",
      "1976-11-30   39.159408\n",
      "1976-12-31   39.316048\n",
      "1977-01-31   39.393664\n",
      "1977-02-28   39.416713\n",
      "1977-03-31   39.450967\n",
      "1977-04-30   39.609241\n",
      "1977-05-31   39.921331\n",
      "1977-06-30   40.340456\n",
      "...                ...\n",
      "2015-07-31  127.854262\n",
      "2015-08-31  127.845969\n",
      "2015-09-30  127.319078\n",
      "2015-10-31  126.705007\n",
      "2015-11-30  126.273111\n",
      "2015-12-31  126.028940\n",
      "2016-01-31  126.252948\n",
      "2016-02-29  127.029795\n",
      "2016-03-31  128.128436\n",
      "2016-04-30  129.498282\n",
      "2016-05-31  130.839220\n",
      "2016-06-30  131.902611\n",
      "2016-07-31  132.731896\n",
      "2016-08-31  133.123014\n",
      "2016-09-30  132.944681\n",
      "2016-10-31  132.231221\n",
      "2016-11-30  131.451951\n",
      "2016-12-31  131.060867\n",
      "2017-01-31  131.261240\n",
      "2017-02-28  132.227038\n",
      "2017-03-31  133.824067\n",
      "2017-04-30  135.561296\n",
      "2017-05-31  136.832165\n",
      "2017-06-30  137.306662\n",
      "2017-07-31  137.053164\n",
      "2017-08-31  136.832464\n",
      "2017-09-30  137.182469\n",
      "2017-10-31  137.690921\n",
      "2017-11-30  137.905915\n",
      "2017-12-31  138.465286\n",
      "\n",
      "[516 rows x 1 columns]\n",
      "   Value\n",
      "0  100.0\n"
     ]
    }
   ],
   "source": [
    "main_df_retrieved = retrieve_initialStateData1()"
   ]
  },
  {
   "cell_type": "code",
   "execution_count": 58,
   "metadata": {},
   "outputs": [],
   "source": [
    "main_df_retrieved.to_pickle('pickling1.pickle')"
   ]
  },
  {
   "cell_type": "code",
   "execution_count": 59,
   "metadata": {},
   "outputs": [],
   "source": [
    "main_df_retrieved_new = pd.read_pickle('pickling1.pickle')"
   ]
  },
  {
   "cell_type": "code",
   "execution_count": 60,
   "metadata": {},
   "outputs": [
    {
     "data": {
      "image/png": "[encoded data removed]",
      "text/plain": [
       "<Figure size 432x288 with 1 Axes>"
      ]
     },
     "metadata": {},
     "output_type": "display_data"
    }
   ],
   "source": [
    "main_df_retrieved_new.plot()\n",
    "plt.legend().remove()\n",
    "plt.show()"
   ]
  },
  {
   "cell_type": "code",
   "execution_count": 61,
   "metadata": {},
   "outputs": [
    {
     "data": {
      "text/html": [
       "<div>\n",
       "<style scoped>\n",
       "    .dataframe tbody tr th:only-of-type {\n",
       "        vertical-align: middle;\n",
       "    }\n",
       "\n",
       "    .dataframe tbody tr th {\n",
       "        vertical-align: top;\n",
       "    }\n",
       "\n",
       "    .dataframe thead th {\n",
       "        text-align: right;\n",
       "    }\n",
       "</style>\n",
       "<table border=\"1\" class=\"dataframe\">\n",
       "  <thead>\n",
       "    <tr style=\"text-align: right;\">\n",
       "      <th></th>\n",
       "      <th>Value</th>\n",
       "    </tr>\n",
       "  </thead>\n",
       "  <tbody>\n",
       "    <tr>\n",
       "      <th>count</th>\n",
       "      <td>1.0</td>\n",
       "    </tr>\n",
       "    <tr>\n",
       "      <th>mean</th>\n",
       "      <td>100.0</td>\n",
       "    </tr>\n",
       "    <tr>\n",
       "      <th>std</th>\n",
       "      <td>NaN</td>\n",
       "    </tr>\n",
       "    <tr>\n",
       "      <th>min</th>\n",
       "      <td>100.0</td>\n",
       "    </tr>\n",
       "    <tr>\n",
       "      <th>25%</th>\n",
       "      <td>100.0</td>\n",
       "    </tr>\n",
       "    <tr>\n",
       "      <th>50%</th>\n",
       "      <td>100.0</td>\n",
       "    </tr>\n",
       "    <tr>\n",
       "      <th>75%</th>\n",
       "      <td>100.0</td>\n",
       "    </tr>\n",
       "    <tr>\n",
       "      <th>max</th>\n",
       "      <td>100.0</td>\n",
       "    </tr>\n",
       "  </tbody>\n",
       "</table>\n",
       "</div>"
      ],
      "text/plain": [
       "       Value\n",
       "count    1.0\n",
       "mean   100.0\n",
       "std      NaN\n",
       "min    100.0\n",
       "25%    100.0\n",
       "50%    100.0\n",
       "75%    100.0\n",
       "max    100.0"
      ]
     },
     "execution_count": 61,
     "metadata": {},
     "output_type": "execute_result"
    }
   ],
   "source": [
    "main_df_retrieved_new.describe()"
   ]
  },
  {
   "cell_type": "code",
   "execution_count": 62,
   "metadata": {},
   "outputs": [
    {
     "data": {
      "text/html": [
       "<div>\n",
       "<style scoped>\n",
       "    .dataframe tbody tr th:only-of-type {\n",
       "        vertical-align: middle;\n",
       "    }\n",
       "\n",
       "    .dataframe tbody tr th {\n",
       "        vertical-align: top;\n",
       "    }\n",
       "\n",
       "    .dataframe thead th {\n",
       "        text-align: right;\n",
       "    }\n",
       "</style>\n",
       "<table border=\"1\" class=\"dataframe\">\n",
       "  <thead>\n",
       "    <tr style=\"text-align: right;\">\n",
       "      <th></th>\n",
       "      <th>Value</th>\n",
       "    </tr>\n",
       "  </thead>\n",
       "  <tbody>\n",
       "    <tr>\n",
       "      <th>0</th>\n",
       "      <td>100.0</td>\n",
       "    </tr>\n",
       "  </tbody>\n",
       "</table>\n",
       "</div>"
      ],
      "text/plain": [
       "   Value\n",
       "0  100.0"
      ]
     },
     "execution_count": 62,
     "metadata": {},
     "output_type": "execute_result"
    }
   ],
   "source": [
    "main_df_retrieved_new.head()"
   ]
  },
  {
   "cell_type": "code",
   "execution_count": 69,
   "metadata": {},
   "outputs": [],
   "source": [
    "main_df_retrieved_new.dropna(inplace=True)"
   ]
  },
  {
   "cell_type": "code",
   "execution_count": 70,
   "metadata": {},
   "outputs": [
    {
     "data": {
      "text/html": [
       "<div>\n",
       "<style scoped>\n",
       "    .dataframe tbody tr th:only-of-type {\n",
       "        vertical-align: middle;\n",
       "    }\n",
       "\n",
       "    .dataframe tbody tr th {\n",
       "        vertical-align: top;\n",
       "    }\n",
       "\n",
       "    .dataframe thead th {\n",
       "        text-align: right;\n",
       "    }\n",
       "</style>\n",
       "<table border=\"1\" class=\"dataframe\">\n",
       "  <thead>\n",
       "    <tr style=\"text-align: right;\">\n",
       "      <th></th>\n",
       "      <th>Value</th>\n",
       "    </tr>\n",
       "  </thead>\n",
       "  <tbody>\n",
       "    <tr>\n",
       "      <th>0</th>\n",
       "      <td>100.0</td>\n",
       "    </tr>\n",
       "  </tbody>\n",
       "</table>\n",
       "</div>"
      ],
      "text/plain": [
       "   Value\n",
       "0  100.0"
      ]
     },
     "execution_count": 70,
     "metadata": {},
     "output_type": "execute_result"
    }
   ],
   "source": [
    "main_df_retrieved.head()"
   ]
  },
  {
   "cell_type": "code",
   "execution_count": 72,
   "metadata": {},
   "outputs": [
    {
     "data": {
      "image/png": "[encoded data removed]",
      "text/plain": [
       "<Figure size 432x288 with 1 Axes>"
      ]
     },
     "metadata": {},
     "output_type": "display_data"
    }
   ],
   "source": [
    "main_df_retrieved_new.plot()\n",
    "plt.legend(loc=4)\n",
    "plt.show()"
   ]
  },
  {
   "cell_type": "code",
   "execution_count": null,
   "metadata": {},
   "outputs": [],
   "source": []
  }
 ],
 "metadata": {
  "kernelspec": {
   "display_name": "Python 3",
   "language": "python",
   "name": "python3"
  },
  "language_info": {
   "codemirror_mode": {
    "name": "ipython",
    "version": 3
   },
   "file_extension": ".py",
   "mimetype": "text/x-python",
   "name": "python",
   "nbconvert_exporter": "python",
   "pygments_lexer": "ipython3",
   "version": "3.6.5"
  }
 },
 "nbformat": 4,
 "nbformat_minor": 2
}
