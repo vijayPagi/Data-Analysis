{
 "cells": [
  {
   "cell_type": "code",
   "execution_count": 1,
   "metadata": {},
   "outputs": [
    {
     "name": "stderr",
     "output_type": "stream",
     "text": [
      "/Users/pagidoju/anaconda3/lib/python3.6/importlib/_bootstrap.py:219: RuntimeWarning: numpy.dtype size changed, may indicate binary incompatibility. Expected 96, got 88\n",
      "  return f(*args, **kwds)\n",
      "/Users/pagidoju/anaconda3/lib/python3.6/importlib/_bootstrap.py:219: RuntimeWarning: numpy.dtype size changed, may indicate binary incompatibility. Expected 96, got 88\n",
      "  return f(*args, **kwds)\n",
      "/Users/pagidoju/anaconda3/lib/python3.6/importlib/_bootstrap.py:219: RuntimeWarning: numpy.dtype size changed, may indicate binary incompatibility. Expected 96, got 88\n",
      "  return f(*args, **kwds)\n",
      "/Users/pagidoju/anaconda3/lib/python3.6/importlib/_bootstrap.py:219: RuntimeWarning: numpy.dtype size changed, may indicate binary incompatibility. Expected 96, got 88\n",
      "  return f(*args, **kwds)\n"
     ]
    }
   ],
   "source": [
    "import quandl\n",
    "import pandas as pd\n",
    "import matplotlib.pyplot as plt\n",
    "import sklearn\n",
    "from matplotlib import style\n",
    "style.use(\"fivethirtyeight\")"
   ]
  },
  {
   "cell_type": "code",
   "execution_count": 2,
   "metadata": {},
   "outputs": [],
   "source": [
    "api_key = open('ApiKey_Quandl_New.txt','r').read()"
   ]
  },
  {
   "cell_type": "code",
   "execution_count": 3,
   "metadata": {},
   "outputs": [],
   "source": [
    "def statelist():\n",
    "    df_statesList = pd.read_html('https://simple.wikipedia.org/wiki/List_of_U.S._states')\n",
    "    return df_statesList[0][1][1:]"
   ]
  },
  {
   "cell_type": "code",
   "execution_count": 17,
   "metadata": {},
   "outputs": [
    {
     "data": {
      "text/plain": [
       "1     AL\n",
       "2     AK\n",
       "3     AZ\n",
       "4     AR\n",
       "5     CA\n",
       "6     CO\n",
       "7     CT\n",
       "8     DE\n",
       "9     FL\n",
       "10    GA\n",
       "11    HI\n",
       "12    ID\n",
       "13    IL\n",
       "14    IN\n",
       "15    IA\n",
       "16    KS\n",
       "17    KY\n",
       "18    LA\n",
       "19    ME\n",
       "20    MD\n",
       "21    MA\n",
       "22    MI\n",
       "23    MN\n",
       "24    MS\n",
       "25    MO\n",
       "26    MT\n",
       "27    NE\n",
       "28    NV\n",
       "29    NH\n",
       "30    NJ\n",
       "31    NM\n",
       "32    NY\n",
       "33    NC\n",
       "34    ND\n",
       "35    OH\n",
       "36    OK\n",
       "37    OR\n",
       "38    PA\n",
       "39    RI\n",
       "40    SC\n",
       "41    SD\n",
       "42    TN\n",
       "43    TX\n",
       "44    UT\n",
       "45    VT\n",
       "46    VA\n",
       "47    WA\n",
       "48    WV\n",
       "49    WI\n",
       "50    WY\n",
       "Name: 1, dtype: object"
      ]
     },
     "execution_count": 17,
     "metadata": {},
     "output_type": "execute_result"
    }
   ],
   "source": [
    "statelist()"
   ]
  },
  {
   "cell_type": "code",
   "execution_count": 42,
   "metadata": {},
   "outputs": [],
   "source": [
    "def retrieve_initialStateData():\n",
    "    states = statelist()\n",
    "    main_DataFrame1 = pd.DataFrame()\n",
    "    \n",
    "    for abbvn in states:\n",
    "        queryy = \"FMAC/HPI_\"+abbvn\n",
    "        #print(queryy)\n",
    "        dfM = quandl.get(queryy, authtoken= 'DW-rzcsYoRrqykg8by1u')\n",
    "        dfM.rename(columns={'Value':str(abbvn)}, inplace= True)\n",
    "        #dfM_TX = quandl.get(\"FMAC/HPI_TX\", authtoken=\"DW-rzcsYoRrqykg8by1u\")\n",
    "        #dfM_TX.head()\n",
    "        \n",
    "        if main_DataFrame1.empty:\n",
    "            main_DataFrame1=dfM\n",
    "            print(main_DataFrame1)\n",
    "        else:\n",
    "            main_DataFrame1 = main_DataFrame1.join(dfM)\n",
    "            #print(main_df2)\n",
    "    print(main_DataFrame1.head())\n",
    "    return main_DataFrame1"
   ]
  },
  {
   "cell_type": "code",
   "execution_count": 44,
   "metadata": {},
   "outputs": [
    {
     "name": "stdout",
     "output_type": "stream",
     "text": [
      "                    AL\n",
      "Date                  \n",
      "1975-01-31   35.695975\n",
      "1975-02-28   35.896770\n",
      "1975-03-31   36.133518\n",
      "1975-04-30   36.425723\n",
      "1975-05-31   36.695708\n",
      "1975-06-30   36.823713\n",
      "1975-07-31   36.747060\n",
      "1975-08-31   36.511773\n",
      "1975-09-30   36.255136\n",
      "1975-10-31   36.139294\n",
      "1975-11-30   36.247464\n",
      "1975-12-31   36.592162\n",
      "1976-01-31   37.138285\n",
      "1976-02-29   37.756437\n",
      "1976-03-31   38.276319\n",
      "1976-04-30   38.596135\n",
      "1976-05-31   38.740517\n",
      "1976-06-30   38.797231\n",
      "1976-07-31   38.856955\n",
      "1976-08-31   38.918701\n",
      "1976-09-30   38.958368\n",
      "1976-10-31   39.018758\n",
      "1976-11-30   39.159408\n",
      "1976-12-31   39.316048\n",
      "1977-01-31   39.393664\n",
      "1977-02-28   39.416713\n",
      "1977-03-31   39.450967\n",
      "1977-04-30   39.609241\n",
      "1977-05-31   39.921331\n",
      "1977-06-30   40.340456\n",
      "...                ...\n",
      "2015-07-31  127.854262\n",
      "2015-08-31  127.845969\n",
      "2015-09-30  127.319078\n",
      "2015-10-31  126.705007\n",
      "2015-11-30  126.273111\n",
      "2015-12-31  126.028940\n",
      "2016-01-31  126.252948\n",
      "2016-02-29  127.029795\n",
      "2016-03-31  128.128436\n",
      "2016-04-30  129.498282\n",
      "2016-05-31  130.839220\n",
      "2016-06-30  131.902611\n",
      "2016-07-31  132.731896\n",
      "2016-08-31  133.123014\n",
      "2016-09-30  132.944681\n",
      "2016-10-31  132.231221\n",
      "2016-11-30  131.451951\n",
      "2016-12-31  131.060867\n",
      "2017-01-31  131.261240\n",
      "2017-02-28  132.227038\n",
      "2017-03-31  133.824067\n",
      "2017-04-30  135.561296\n",
      "2017-05-31  136.832165\n",
      "2017-06-30  137.306662\n",
      "2017-07-31  137.053164\n",
      "2017-08-31  136.832464\n",
      "2017-09-30  137.182469\n",
      "2017-10-31  137.690921\n",
      "2017-11-30  137.905915\n",
      "2017-12-31  138.465286\n",
      "\n",
      "[516 rows x 1 columns]\n",
      "                   AL         AK         AZ         AR         CA         CO  \\\n",
      "Date                                                                           \n",
      "1975-01-31  35.695975  34.371830  28.937735  36.738861  15.722312  19.603977   \n",
      "1975-02-28  35.896770  34.880945  29.463708  37.098962  15.775202  19.837138   \n",
      "1975-03-31  36.133518  35.402217  29.959514  37.416398  15.964942  20.073483   \n",
      "1975-04-30  36.425723  35.944703  30.345148  37.677813  16.275547  20.301864   \n",
      "1975-05-31  36.695708  36.535272  30.546449  37.921099  16.533017  20.495075   \n",
      "\n",
      "                   CT         DE         FL         GA    ...             SD  \\\n",
      "Date                                                      ...                  \n",
      "1975-01-31  24.369431  27.264842  30.997043  30.720917    ...      37.722210   \n",
      "1975-02-28  24.908036  27.250734  32.229049  30.450593    ...      37.319634   \n",
      "1975-03-31  25.313556  27.268478  34.027506  30.338265    ...      36.908861   \n",
      "1975-04-30  25.541141  27.362673  36.218077  30.401314    ...      36.498238   \n",
      "1975-05-31  25.614056  27.561893  36.437855  30.511355    ...      36.121328   \n",
      "\n",
      "                   TN         TX         UT         VT         VA         WA  \\\n",
      "Date                                                                           \n",
      "1975-01-31  32.179633  32.602350  24.698474  26.637620  27.912640  17.484315   \n",
      "1975-02-28  32.218599  32.944116  25.060977  26.956271  28.205810  17.571053   \n",
      "1975-03-31  32.296539  33.542975  25.381341  27.264731  28.420407  17.689717   \n",
      "1975-04-30  32.416385  34.402826  25.627200  27.546568  28.578762  17.818792   \n",
      "1975-05-31  32.563209  34.649755  25.782334  27.794738  28.717611  17.933277   \n",
      "\n",
      "                   WV         WI         WY  \n",
      "Date                                         \n",
      "1975-01-31  41.002072  28.096764  31.668794  \n",
      "1975-02-28  42.040473  28.486170  32.161920  \n",
      "1975-03-31  43.122486  28.860737  32.680525  \n",
      "1975-04-30  44.239196  29.185048  33.210124  \n",
      "1975-05-31  45.363222  29.443523  33.714128  \n",
      "\n",
      "[5 rows x 50 columns]\n"
     ]
    }
   ],
   "source": [
    "house_data = retrieve_initialStateData()"
   ]
  },
  {
   "cell_type": "code",
   "execution_count": 45,
   "metadata": {},
   "outputs": [],
   "source": [
    "house_data.to_pickle('HPI.pickle')"
   ]
  },
  {
   "cell_type": "code",
   "execution_count": 46,
   "metadata": {},
   "outputs": [],
   "source": [
    "housing_data = pd.read_pickle('HPI.pickle')"
   ]
  },
  {
   "cell_type": "code",
   "execution_count": 47,
   "metadata": {},
   "outputs": [
    {
     "name": "stdout",
     "output_type": "stream",
     "text": [
      "                  AL        AK        AZ        AR        CA        CO  \\\n",
      "Date                                                                     \n",
      "1975-01-31       NaN       NaN       NaN       NaN       NaN       NaN   \n",
      "1975-02-28  0.005625  0.014812  0.018176  0.009802  0.003364  0.011894   \n",
      "1975-03-31  0.006595  0.014944  0.016828  0.008556  0.012028  0.011914   \n",
      "1975-04-30  0.008087  0.015324  0.012872  0.006987  0.019455  0.011377   \n",
      "1975-05-31  0.007412  0.016430  0.006634  0.006457  0.015819  0.009517   \n",
      "\n",
      "                  CT        DE        FL        GA    ...           SD  \\\n",
      "Date                                                  ...                \n",
      "1975-01-31       NaN       NaN       NaN       NaN    ...          NaN   \n",
      "1975-02-28  0.022102 -0.000517  0.039746 -0.008799    ...    -0.010672   \n",
      "1975-03-31  0.016281  0.000651  0.055802 -0.003689    ...    -0.011007   \n",
      "1975-04-30  0.008991  0.003454  0.064376  0.002078    ...    -0.011125   \n",
      "1975-05-31  0.002855  0.007281  0.006068  0.003620    ...    -0.010327   \n",
      "\n",
      "                  TN        TX        UT        VT        VA        WA  \\\n",
      "Date                                                                     \n",
      "1975-01-31       NaN       NaN       NaN       NaN       NaN       NaN   \n",
      "1975-02-28  0.001211  0.010483  0.014677  0.011962  0.010503  0.004961   \n",
      "1975-03-31  0.002419  0.018178  0.012783  0.011443  0.007608  0.006753   \n",
      "1975-04-30  0.003711  0.025634  0.009687  0.010337  0.005572  0.007297   \n",
      "1975-05-31  0.004529  0.007178  0.006053  0.009009  0.004858  0.006425   \n",
      "\n",
      "                  WV        WI        WY  \n",
      "Date                                      \n",
      "1975-01-31       NaN       NaN       NaN  \n",
      "1975-02-28  0.025326  0.013859  0.015571  \n",
      "1975-03-31  0.025737  0.013149  0.016125  \n",
      "1975-04-30  0.025896  0.011237  0.016205  \n",
      "1975-05-31  0.025408  0.008856  0.015176  \n",
      "\n",
      "[5 rows x 50 columns]\n"
     ]
    }
   ],
   "source": [
    "housing_data = housing_data.pct_change()\n",
    "print(housing_data.head())"
   ]
  },
  {
   "cell_type": "code",
   "execution_count": 48,
   "metadata": {},
   "outputs": [],
   "source": [
    "housing_data.dropna(inplace=True)"
   ]
  },
  {
   "cell_type": "code",
   "execution_count": 49,
   "metadata": {},
   "outputs": [
    {
     "name": "stdout",
     "output_type": "stream",
     "text": [
      "                  AL        AK        AZ        AR        CA        CO  \\\n",
      "Date                                                                     \n",
      "1975-02-28  0.005625  0.014812  0.018176  0.009802  0.003364  0.011894   \n",
      "1975-03-31  0.006595  0.014944  0.016828  0.008556  0.012028  0.011914   \n",
      "1975-04-30  0.008087  0.015324  0.012872  0.006987  0.019455  0.011377   \n",
      "1975-05-31  0.007412  0.016430  0.006634  0.006457  0.015819  0.009517   \n",
      "1975-06-30  0.003488  0.017258 -0.001631  0.006290  0.006882  0.007930   \n",
      "\n",
      "                  CT        DE        FL        GA    ...           SD  \\\n",
      "Date                                                  ...                \n",
      "1975-02-28  0.022102 -0.000517  0.039746 -0.008799    ...    -0.010672   \n",
      "1975-03-31  0.016281  0.000651  0.055802 -0.003689    ...    -0.011007   \n",
      "1975-04-30  0.008991  0.003454  0.064376  0.002078    ...    -0.011125   \n",
      "1975-05-31  0.002855  0.007281  0.006068  0.003620    ...    -0.010327   \n",
      "1975-06-30 -0.000794  0.009270 -0.045436  0.001068    ...    -0.008006   \n",
      "\n",
      "                  TN        TX        UT        VT        VA        WA  \\\n",
      "Date                                                                     \n",
      "1975-02-28  0.001211  0.010483  0.014677  0.011962  0.010503  0.004961   \n",
      "1975-03-31  0.002419  0.018178  0.012783  0.011443  0.007608  0.006753   \n",
      "1975-04-30  0.003711  0.025634  0.009687  0.010337  0.005572  0.007297   \n",
      "1975-05-31  0.004529  0.007178  0.006053  0.009009  0.004858  0.006425   \n",
      "1975-06-30  0.005186 -0.012576  0.001491  0.007931  0.004928  0.007100   \n",
      "\n",
      "                  WV        WI        WY  \n",
      "Date                                      \n",
      "1975-02-28  0.025326  0.013859  0.015571  \n",
      "1975-03-31  0.025737  0.013149  0.016125  \n",
      "1975-04-30  0.025896  0.011237  0.016205  \n",
      "1975-05-31  0.025408  0.008856  0.015176  \n",
      "1975-06-30  0.023624  0.006778  0.013805  \n",
      "\n",
      "[5 rows x 50 columns]\n"
     ]
    }
   ],
   "source": [
    "print(housing_data.head())"
   ]
  },
  {
   "cell_type": "code",
   "execution_count": 50,
   "metadata": {},
   "outputs": [],
   "source": [
    "import numpy as np\n",
    "housing_data.replace([np.inf, -np.inf], np.nan, inplace=True)\n",
    "housing_data.dropna(inplace=True)"
   ]
  },
  {
   "cell_type": "code",
   "execution_count": 52,
   "metadata": {},
   "outputs": [
    {
     "name": "stdout",
     "output_type": "stream",
     "text": [
      "                  AL        AK        AZ        AR        CA        CO  \\\n",
      "Date                                                                     \n",
      "1975-02-28  0.005625  0.014812  0.018176  0.009802  0.003364  0.011894   \n",
      "1975-03-31  0.006595  0.014944  0.016828  0.008556  0.012028  0.011914   \n",
      "1975-04-30  0.008087  0.015324  0.012872  0.006987  0.019455  0.011377   \n",
      "1975-05-31  0.007412  0.016430  0.006634  0.006457  0.015819  0.009517   \n",
      "1975-06-30  0.003488  0.017258 -0.001631  0.006290  0.006882  0.007930   \n",
      "\n",
      "                  CT        DE        FL        GA    ...           SD  \\\n",
      "Date                                                  ...                \n",
      "1975-02-28  0.022102 -0.000517  0.039746 -0.008799    ...    -0.010672   \n",
      "1975-03-31  0.016281  0.000651  0.055802 -0.003689    ...    -0.011007   \n",
      "1975-04-30  0.008991  0.003454  0.064376  0.002078    ...    -0.011125   \n",
      "1975-05-31  0.002855  0.007281  0.006068  0.003620    ...    -0.010327   \n",
      "1975-06-30 -0.000794  0.009270 -0.045436  0.001068    ...    -0.008006   \n",
      "\n",
      "                  TN        TX        UT        VT        VA        WA  \\\n",
      "Date                                                                     \n",
      "1975-02-28  0.001211  0.010483  0.014677  0.011962  0.010503  0.004961   \n",
      "1975-03-31  0.002419  0.018178  0.012783  0.011443  0.007608  0.006753   \n",
      "1975-04-30  0.003711  0.025634  0.009687  0.010337  0.005572  0.007297   \n",
      "1975-05-31  0.004529  0.007178  0.006053  0.009009  0.004858  0.006425   \n",
      "1975-06-30  0.005186 -0.012576  0.001491  0.007931  0.004928  0.007100   \n",
      "\n",
      "                  WV        WI        WY  \n",
      "Date                                      \n",
      "1975-02-28  0.025326  0.013859  0.015571  \n",
      "1975-03-31  0.025737  0.013149  0.016125  \n",
      "1975-04-30  0.025896  0.011237  0.016205  \n",
      "1975-05-31  0.025408  0.008856  0.015176  \n",
      "1975-06-30  0.023624  0.006778  0.013805  \n",
      "\n",
      "[5 rows x 50 columns]\n"
     ]
    }
   ],
   "source": [
    "print(housing_data.head())"
   ]
  },
  {
   "cell_type": "code",
   "execution_count": 53,
   "metadata": {},
   "outputs": [
    {
     "data": {
      "image/png": "[encoded data removed]",
      "text/plain": [
       "<Figure size 432x288 with 1 Axes>"
      ]
     },
     "metadata": {},
     "output_type": "display_data"
    }
   ],
   "source": [
    "housing_data.plot()\n",
    "plt.legend().remove()\n",
    "plt.show()"
   ]
  },
  {
   "cell_type": "code",
   "execution_count": null,
   "metadata": {},
   "outputs": [],
   "source": []
  }
 ],
 "metadata": {
  "kernelspec": {
   "display_name": "Python 3",
   "language": "python",
   "name": "python3"
  },
  "language_info": {
   "codemirror_mode": {
    "name": "ipython",
    "version": 3
   },
   "file_extension": ".py",
   "mimetype": "text/x-python",
   "name": "python",
   "nbconvert_exporter": "python",
   "pygments_lexer": "ipython3",
   "version": "3.6.5"
  }
 },
 "nbformat": 4,
 "nbformat_minor": 2
}
