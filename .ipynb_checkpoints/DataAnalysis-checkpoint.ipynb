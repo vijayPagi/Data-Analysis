{
 "cells": [
  {
   "cell_type": "code",
   "execution_count": 1,
   "metadata": {},
   "outputs": [
    {
     "name": "stderr",
     "output_type": "stream",
     "text": [
      "/Users/pagidoju/anaconda3/lib/python3.6/importlib/_bootstrap.py:219: RuntimeWarning: numpy.dtype size changed, may indicate binary incompatibility. Expected 96, got 88\n",
      "  return f(*args, **kwds)\n"
     ]
    }
   ],
   "source": [
    "import numpy as np\n",
    "import pandas as pd\n",
    "import matplotlib.pyplot as plt\n",
    "from matplotlib import style\n",
    "style.use('ggplot')"
   ]
  },
  {
   "cell_type": "code",
   "execution_count": 2,
   "metadata": {},
   "outputs": [],
   "source": [
    "web_stats = {'Day':[1,2,3,4,5,6],'Visitors':[23,43,54,65,76,23],'Bounce_Rate':[34,45,21,54,56,76]}\n",
    "df = pd.DataFrame(web_stats)"
   ]
  },
  {
   "cell_type": "code",
   "execution_count": 3,
   "metadata": {},
   "outputs": [
    {
     "name": "stdout",
     "output_type": "stream",
     "text": [
      "   Day  Visitors  Bounce_Rate\n",
      "0    1        23           34\n",
      "1    2        43           45\n",
      "2    3        54           21\n",
      "3    4        65           54\n",
      "4    5        76           56\n",
      "5    6        23           76\n"
     ]
    }
   ],
   "source": [
    "print(df)"
   ]
  },
  {
   "cell_type": "code",
   "execution_count": 4,
   "metadata": {},
   "outputs": [
    {
     "name": "stdout",
     "output_type": "stream",
     "text": [
      "   Day  Visitors  Bounce_Rate\n",
      "0    1        23           34\n",
      "1    2        43           45\n",
      "2    3        54           21\n",
      "3    4        65           54\n",
      "4    5        76           56\n"
     ]
    }
   ],
   "source": [
    "print(df.head())"
   ]
  },
  {
   "cell_type": "code",
   "execution_count": 5,
   "metadata": {},
   "outputs": [
    {
     "name": "stdout",
     "output_type": "stream",
     "text": [
      "   Day  Visitors  Bounce_Rate\n",
      "4    5        76           56\n",
      "5    6        23           76\n"
     ]
    }
   ],
   "source": [
    "print(df.tail(2))"
   ]
  },
  {
   "cell_type": "code",
   "execution_count": 6,
   "metadata": {},
   "outputs": [
    {
     "name": "stdout",
     "output_type": "stream",
     "text": [
      "     Visitors  Bounce_Rate\n",
      "Day                       \n",
      "1          23           34\n",
      "2          43           45\n",
      "3          54           21\n",
      "4          65           54\n",
      "5          76           56\n",
      "6          23           76\n"
     ]
    }
   ],
   "source": [
    "print(df.set_index('Day'))"
   ]
  },
  {
   "cell_type": "code",
   "execution_count": 7,
   "metadata": {},
   "outputs": [
    {
     "name": "stdout",
     "output_type": "stream",
     "text": [
      "          Day  Bounce_Rate\n",
      "Visitors                  \n",
      "23          1           34\n",
      "43          2           45\n",
      "54          3           21\n",
      "65          4           54\n",
      "76          5           56\n",
      "23          6           76\n"
     ]
    }
   ],
   "source": [
    "print(df.set_index('Visitors'))"
   ]
  },
  {
   "cell_type": "code",
   "execution_count": 8,
   "metadata": {},
   "outputs": [],
   "source": [
    "df2 = df.set_index('Visitors')"
   ]
  },
  {
   "cell_type": "code",
   "execution_count": 10,
   "metadata": {},
   "outputs": [
    {
     "name": "stdout",
     "output_type": "stream",
     "text": [
      "          Day  Bounce_Rate\n",
      "Visitors                  \n",
      "23          6           76\n"
     ]
    }
   ],
   "source": [
    "print(df2.tail(1))"
   ]
  },
  {
   "cell_type": "code",
   "execution_count": 11,
   "metadata": {},
   "outputs": [],
   "source": [
    "df2.set_index('Bounce_Rate', inplace= True)"
   ]
  },
  {
   "cell_type": "code",
   "execution_count": 12,
   "metadata": {},
   "outputs": [
    {
     "name": "stdout",
     "output_type": "stream",
     "text": [
      "             Day\n",
      "Bounce_Rate     \n",
      "34             1\n",
      "45             2\n",
      "21             3\n",
      "54             4\n",
      "56             5\n",
      "76             6\n"
     ]
    }
   ],
   "source": [
    "print(df2)"
   ]
  },
  {
   "cell_type": "code",
   "execution_count": 13,
   "metadata": {},
   "outputs": [
    {
     "name": "stdout",
     "output_type": "stream",
     "text": [
      "0    23\n",
      "1    43\n",
      "2    54\n",
      "3    65\n",
      "4    76\n",
      "5    23\n",
      "Name: Visitors, dtype: int64\n"
     ]
    }
   ],
   "source": [
    "print(df.Visitors)"
   ]
  },
  {
   "cell_type": "code",
   "execution_count": 14,
   "metadata": {},
   "outputs": [
    {
     "name": "stdout",
     "output_type": "stream",
     "text": [
      "[34, 45, 21, 54, 56, 76]\n"
     ]
    }
   ],
   "source": [
    "print(df.Bounce_Rate.tolist())"
   ]
  },
  {
   "cell_type": "code",
   "execution_count": 15,
   "metadata": {},
   "outputs": [
    {
     "name": "stdout",
     "output_type": "stream",
     "text": [
      "[[34 23]\n",
      " [45 43]\n",
      " [21 54]\n",
      " [54 65]\n",
      " [56 76]\n",
      " [76 23]]\n"
     ]
    }
   ],
   "source": [
    "print(np.array(df[['Bounce_Rate','Visitors']]))"
   ]
  },
  {
   "cell_type": "code",
   "execution_count": 16,
   "metadata": {},
   "outputs": [
    {
     "name": "stdout",
     "output_type": "stream",
     "text": [
      "[[34 23]\n",
      " [45 43]\n",
      " [21 54]\n",
      " [54 65]\n",
      " [56 76]\n",
      " [76 23]]\n"
     ]
    }
   ],
   "source": [
    "df3 = np.array(df[['Bounce_Rate','Visitors']])\n",
    "print(df3)"
   ]
  },
  {
   "cell_type": "code",
   "execution_count": 17,
   "metadata": {},
   "outputs": [],
   "source": [
    "df4 = pd.DataFrame(df3)"
   ]
  },
  {
   "cell_type": "code",
   "execution_count": 18,
   "metadata": {},
   "outputs": [
    {
     "name": "stdout",
     "output_type": "stream",
     "text": [
      "    0   1\n",
      "0  34  23\n",
      "1  45  43\n",
      "2  21  54\n",
      "3  54  65\n",
      "4  56  76\n",
      "5  76  23\n"
     ]
    }
   ],
   "source": [
    "print(df4)"
   ]
  }
 ],
 "metadata": {
  "kernelspec": {
   "display_name": "Python 3",
   "language": "python",
   "name": "python3"
  },
  "language_info": {
   "codemirror_mode": {
    "name": "ipython",
    "version": 3
   },
   "file_extension": ".py",
   "mimetype": "text/x-python",
   "name": "python",
   "nbconvert_exporter": "python",
   "pygments_lexer": "ipython3",
   "version": "3.6.5"
  }
 },
 "nbformat": 4,
 "nbformat_minor": 2
}
